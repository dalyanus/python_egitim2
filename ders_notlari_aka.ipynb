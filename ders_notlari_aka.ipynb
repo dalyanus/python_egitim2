{
 "cells": [
  {
   "cell_type": "code",
   "execution_count": null,
   "metadata": {},
   "outputs": [],
   "source": [
    "yazbel python dosyaları\n"
   ]
  },
  {
   "cell_type": "markdown",
   "metadata": {},
   "source": [
    "TANIMLAR\n",
    "parametre = fonksiyonların yanında parantez içinde belirtilen değerlere parametre denir\n",
    "değişken = bir program içinde değerlere verilen isimdir. \n",
    "üslü sayı/kuvvet girmek için ** kullanılır 2**3 = 8\n"
   ]
  },
  {
   "cell_type": "markdown",
   "metadata": {},
   "source": [
    "DEĞİŞKENLER\n",
    "değişken = bir program içinde değerlere verilen isimdir. \n",
    "        değişken adı bir sayı ile başlayamaz\n",
    "        değişken adı matematiksel işleçlerle başlayamaz\n",
    "        değişken adı harf ya da _ ile başlayabilir\n",
    "        fonksiyon isimleri değişken adı olarak atanamaz\n",
    "            yasaklılar için: import keyword\n",
    "                            kwyword.kwlist\n",
    "        değişken adları arasında boşluk bırakılamaz\n",
    "    aynı değere sahip iki değişken tnaımlama a = b = 4 (tek satırda tanımlanır)\n",
    "\n",
    "değişken takas etme\n",
    "a = 10\n",
    "b = 20\n",
    "a, b = b , a ile değerler değişir. a 20, b 10 olur\n",
    "\n"
   ]
  },
  {
   "cell_type": "markdown",
   "metadata": {},
   "source": [
    "string\n",
    "string = karakter dizisi\n",
    "tırnak içinde olan her şey stringdir\n",
    "+ ve * matemarik işleçleri, karakter dizileri ile de kullanılabilir: \n",
    "    örn: \".\" * 5 = .....\n"
   ]
  },
  {
   "cell_type": "markdown",
   "metadata": {},
   "source": [
    "FONKSIYONLAR\n",
    "type() verinin tipini sorgulamaya yarar\n",
    "len () verinin uzunluğunu gösterir\n",
    "    sayıların uzunluğunu ölçmek için kullanılamaz\n",
    "pow () sayının kuvvetini alır POW(12,2) = 144\n",
    "print () \n",
    "open() dosya oluşturmak için kullanılır\n",
    "file\n",
    "int () tamsayı\n",
    "float () ondalık sayı\n",
    "complex () karmaşık sayı\n",
    "str () karakter dizisi olmayan verileri, karakter dizisine çevirir\n",
    "eval () \n",
    "exec ()\n",
    "format()\n",
    "if () olası bütün sonuçları listeler. if-if sıralanıp sonunda else gelirse, else kendinden bir önceki if'i baz alarak çalışır. o yuzden birden cok kosul çalışacaksa;\n",
    "    ilk if\n",
    "    sonrakiler elif\n",
    "    kapanış else olursa sonuc mantıklı olur. \n",
    "    tek if varsa, if - else kullanılabilir. \n",
    "\n",
    "elif () sadece doğru olan ilk sonucu verir\n",
    "else ()\n",
    "\n",
    "\n",
    "        \n",
    "\n",
    "            "
   ]
  },
  {
   "cell_type": "markdown",
   "metadata": {},
   "source": [
    "print () \n",
    "    \"\" yerine ' veya \"\"\" de kullanılabilir\n",
    "    \"\"\" kullanımı satır atlamalı yazımlarda rahatlık sağlar\n",
    "    print içinde virgüller ayrılanları ekrana default olarak aralarında boşluk bırakak yazar. bunu sep() parametresi ile değiştirebiliriz\n",
    "        print(\"ali\",\"kara) ==> ali kara. \n",
    "        print(\"ali\",\"kara\", sep=\"+\") ==> ali+kara\n",
    "        print(\"ali\",\"kara\",sep\"\") ==> alikara\n",
    "            sep=0 geçersizdir\n",
    "            sep=none default deger olan boşlukla yazar\n",
    "        \n",
    "        end\n",
    "            print fonksiyonu default olarak çıktıdan sonra satırbaşına ayarlıdır. bunu end() ile değiştirebiliriz. \n",
    "            print(\"ali\", \"kara\", sep=\" \") ==> ali kara\n",
    "            print(\"ali\", \"kara\", sep=\" \", end=\" \\neyyorlamam bu kadar\") ==> \n",
    "                ali kara\n",
    "                eyyorlamam bu kadar\n",
    "        \n",
    "        file\n",
    "        print çıktılarını dosyaya yazdırmak için kullanılır\n",
    "        dosya = open(\"dosya_adi.txt\", \"w\")\n",
    "        print(\"deneme bir iki uc\", file=dosya)\n",
    "        dosya.close()\n",
    "\n",
    "        flush\n",
    "        python'un arayuzde tutarak dosyaya anında yazmadığı verilerin anında yazılmasını sağlar\n",
    "            f = open(\"deneme.txt\", \"w\")\n",
    "            print(\"ali kara\", file=f, flush=True)\n",
    "            bunu yapmadığımız takdirde, python verileri yazmak için close komutunu bekleyecektir. \n",
    "        \n",
    "        *\n",
    "        print komutunda her bir karakterin ayrı ayrı yazılmasını sağlar\n",
    "        print(*\"galatasaray\") ==> g a l a t a s a r a y\n",
    "        print(*\"galatasaray\", sep=\".\") ==> g.a.l.a.t.a.s.a.r.a.y\n",
    "        yıldız sayılarla çalışmaz\n",
    "\n",
    "\n",
    "\n"
   ]
  },
  {
   "cell_type": "markdown",
   "metadata": {},
   "source": [
    "sys.stdout'u kalıcı olarak değiştirmek\n"
   ]
  },
  {
   "cell_type": "markdown",
   "metadata": {},
   "source": [
    "kaçış dizileri\n",
    "\n",
    "    ters taksim \\ çift tırnakla yazılan kelime dizisi içinde ilave çift tırnak kullanmaya izin verir\n",
    "    print(\"ali bey \\\"ben yarın gelmeyeceğim\\\" dedi.\") ==> ali bey \"ben yarın gelmeyeceğim\" dedi. \n",
    "\n",
    "    satır başı \\n\n",
    "    yazılanı satır başından başlatır\n",
    "    print(\"ali \\nkara\")\n",
    "    ali\n",
    "    kara\n",
    "        başlık = \"ali veli selami\"\n",
    "        print(başlık, \"\\n\", \"-\"*len(başlık), sep\"\")\n",
    "        ali veli selami\n",
    "        ---------------\n",
    "\n",
    "    sekme \\t\n",
    "    print(\"ali \\tkara\")==> ali  kara\n",
    "\n",
    "    düşey sekme \\v\n",
    "    print(\"ali \\vkara\")\n",
    "    ali\n",
    "        kara\n",
    "    \n",
    "    \n"
   ]
  },
  {
   "cell_type": "markdown",
   "metadata": {},
   "source": [
    "INPUT\n",
    "\n",
    "ilk aldığı veriyi karakter dizisi olarak okur. rakamsa bunu int/float ile rakamlaştırmak gerekir. \n"
   ]
  },
  {
   "cell_type": "markdown",
   "metadata": {},
   "source": [
    "ARİTMETİK İŞLEÇLER\n",
    "+\n",
    "-\n",
    "*\n",
    "/\n",
    "% modulus. iki sayının birbirine bölümünde kalanı verir. 4%2=0\n",
    "// taban bölme. iki sayının bölümünden doğan sonucu kesirlik olarak değil tamsayı olarak verir\n",
    "    5/2 = 2.5       5//2=int(5/2)=2\n",
    "** kuvvet 2**3 = 8  pow(2,3)\n",
    "    16 ** 0.5 = 4 bir sayının 0.5'inci kuvveti kareköküdür\n",
    "\n",
    "KARŞILAŞTIRMA İŞLEÇLERİ - eşittir hep sağda\n",
    "== eşittir\n",
    "!= eşit değildir\n",
    "> büyüktür\n",
    "< küçüktür\n",
    ">= büyük eşittir\n",
    "<= küçük eşittir\n",
    "\n",
    "BOOL İŞLEÇLERİ\n",
    "\n",
    "DEGER ATAMA İŞLEÇLERİ\n",
    "+=\n",
    "    a = 5\n",
    "    a = a + 23\n",
    "    print(a) ==> 28\n",
    "\n",
    "    a = 5\n",
    "    a += 23\n",
    "    print(a) ==> 28\n",
    "\n",
    "-= yukarıdanin - versiyonu\n",
    "/= yukarıdanin / versiyonu\n",
    "*= yukarıdanin * versiyonu\n",
    "%= \n",
    "**= \n",
    "//=\n",
    ":= walrus operatoru (detaylı çalışmadım)\n",
    "\n",
    "AİTLİK İŞLECİ\n",
    "in ==> bir değerin bir değişken içinde olup olmadığını sorgular\n",
    "\n",
    "\n"
   ]
  }
 ],
 "metadata": {
  "language_info": {
   "name": "python"
  },
  "orig_nbformat": 4
 },
 "nbformat": 4,
 "nbformat_minor": 2
}
